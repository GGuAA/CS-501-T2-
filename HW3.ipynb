{
 "cells": [
  {
   "cell_type": "code",
   "execution_count": 391,
   "metadata": {},
   "outputs": [],
   "source": [
    "#CHECKBOOK EXPLORER data : https://data.boston.gov/dataset/checkbook-explorer\n",
    "#REVENUE data : https://data.boston.gov/dataset/revenue-budget"
   ]
  },
  {
   "cell_type": "code",
   "execution_count": 392,
   "metadata": {
    "id": "vhjlS0_CHpGL"
   },
   "outputs": [],
   "source": [
    "import pandas as pd\n",
    "import numpy as np\n",
    "import seaborn as sns\n",
    "import matplotlib.pyplot as plt"
   ]
  },
  {
   "cell_type": "code",
   "execution_count": 393,
   "metadata": {
    "colab": {
     "base_uri": "https://localhost:8080/",
     "height": 372
    },
    "id": "tERGpbqQH3Tu",
    "outputId": "3d29006d-96a2-4a7b-f7e8-5823d4ad2700",
    "scrolled": true
   },
   "outputs": [],
   "source": [
    "df_16 = pd.read_csv('checkbook-explorerfy16.csv',encoding = \"cp1252\",low_memory=False)\n",
    "df_17 = pd.read_csv('checkbook-explorerfy17.csv',encoding = \"cp1252\",low_memory=False)\n",
    "df_18 = pd.read_csv('checkbook-explorerfy18.csv',encoding = \"cp1252\",low_memory=False,dtype = {'Monetary Amount': str})\n",
    "df_19 = pd.read_csv('checkbook-explorerfy19.csv',encoding = \"cp1252\",low_memory=False,dtype = {'Monetary Amount': str})\n",
    "df_20 = pd.read_csv('checkbook-explorerfy20.csv',encoding = \"cp1252\",low_memory=False,names = list(df_16.columns),header = 0,dtype = {'Monetary Amount': str})\n",
    "df = pd.concat([df_16, df_17, df_18, df_19, df_20], ignore_index=True)"
   ]
  },
  {
   "cell_type": "code",
   "execution_count": 394,
   "metadata": {
    "colab": {
     "base_uri": "https://localhost:8080/",
     "height": 198
    },
    "id": "FoXrQPGKTlSx",
    "outputId": "e85c9d97-56cd-4ad3-b4e4-6adb141baa17"
   },
   "outputs": [
    {
     "data": {
      "text/html": [
       "<div>\n",
       "<style scoped>\n",
       "    .dataframe tbody tr th:only-of-type {\n",
       "        vertical-align: middle;\n",
       "    }\n",
       "\n",
       "    .dataframe tbody tr th {\n",
       "        vertical-align: top;\n",
       "    }\n",
       "\n",
       "    .dataframe thead th {\n",
       "        text-align: right;\n",
       "    }\n",
       "</style>\n",
       "<table border=\"1\" class=\"dataframe\">\n",
       "  <thead>\n",
       "    <tr style=\"text-align: right;\">\n",
       "      <th></th>\n",
       "      <th>Voucher</th>\n",
       "      <th>Voucher Line</th>\n",
       "      <th>Distribution Line</th>\n",
       "      <th>Entered</th>\n",
       "      <th>Month (Number)</th>\n",
       "      <th>Fiscal Month</th>\n",
       "      <th>Month</th>\n",
       "      <th>Fiscal Year</th>\n",
       "      <th>Year</th>\n",
       "      <th>Vendor Name</th>\n",
       "      <th>Account</th>\n",
       "      <th>Account Descr</th>\n",
       "      <th>Dept</th>\n",
       "      <th>Department Name</th>\n",
       "      <th>Program</th>\n",
       "      <th>Monetary Amount</th>\n",
       "    </tr>\n",
       "  </thead>\n",
       "  <tbody>\n",
       "    <tr>\n",
       "      <th>0</th>\n",
       "      <td>L0004356</td>\n",
       "      <td>1.0</td>\n",
       "      <td>1.0</td>\n",
       "      <td>4/1/2016</td>\n",
       "      <td>4.0</td>\n",
       "      <td>10.0</td>\n",
       "      <td>April</td>\n",
       "      <td>2016.0</td>\n",
       "      <td>2016.0</td>\n",
       "      <td>Higginbottom Sahwniece N</td>\n",
       "      <td>52926.0</td>\n",
       "      <td>ContServ Loans</td>\n",
       "      <td>188300</td>\n",
       "      <td>Neighborhood Development</td>\n",
       "      <td>Housing Development</td>\n",
       "      <td>$5,790.00</td>\n",
       "    </tr>\n",
       "    <tr>\n",
       "      <th>1</th>\n",
       "      <td>L0004346</td>\n",
       "      <td>1.0</td>\n",
       "      <td>1.0</td>\n",
       "      <td>4/1/2016</td>\n",
       "      <td>4.0</td>\n",
       "      <td>10.0</td>\n",
       "      <td>April</td>\n",
       "      <td>2016.0</td>\n",
       "      <td>2016.0</td>\n",
       "      <td>Paul Jean Geralde</td>\n",
       "      <td>52926.0</td>\n",
       "      <td>ContServ Loans</td>\n",
       "      <td>188300</td>\n",
       "      <td>Neighborhood Development</td>\n",
       "      <td>Housing Development</td>\n",
       "      <td>$3,835.00</td>\n",
       "    </tr>\n",
       "    <tr>\n",
       "      <th>2</th>\n",
       "      <td>L0004347</td>\n",
       "      <td>1.0</td>\n",
       "      <td>1.0</td>\n",
       "      <td>4/1/2016</td>\n",
       "      <td>4.0</td>\n",
       "      <td>10.0</td>\n",
       "      <td>April</td>\n",
       "      <td>2016.0</td>\n",
       "      <td>2016.0</td>\n",
       "      <td>Alvarado Kristine</td>\n",
       "      <td>52926.0</td>\n",
       "      <td>ContServ Loans</td>\n",
       "      <td>188300</td>\n",
       "      <td>Neighborhood Development</td>\n",
       "      <td>Housing Development</td>\n",
       "      <td>$5,000.00</td>\n",
       "    </tr>\n",
       "    <tr>\n",
       "      <th>3</th>\n",
       "      <td>L0004348</td>\n",
       "      <td>1.0</td>\n",
       "      <td>1.0</td>\n",
       "      <td>4/1/2016</td>\n",
       "      <td>4.0</td>\n",
       "      <td>10.0</td>\n",
       "      <td>April</td>\n",
       "      <td>2016.0</td>\n",
       "      <td>2016.0</td>\n",
       "      <td>Denizard Laurence K</td>\n",
       "      <td>52926.0</td>\n",
       "      <td>ContServ Loans</td>\n",
       "      <td>188300</td>\n",
       "      <td>Neighborhood Development</td>\n",
       "      <td>Housing Development</td>\n",
       "      <td>$7,140.00</td>\n",
       "    </tr>\n",
       "    <tr>\n",
       "      <th>4</th>\n",
       "      <td>L0004349</td>\n",
       "      <td>1.0</td>\n",
       "      <td>1.0</td>\n",
       "      <td>4/1/2016</td>\n",
       "      <td>4.0</td>\n",
       "      <td>10.0</td>\n",
       "      <td>April</td>\n",
       "      <td>2016.0</td>\n",
       "      <td>2016.0</td>\n",
       "      <td>Ramos Juan</td>\n",
       "      <td>52926.0</td>\n",
       "      <td>ContServ Loans</td>\n",
       "      <td>188300</td>\n",
       "      <td>Neighborhood Development</td>\n",
       "      <td>Housing Development</td>\n",
       "      <td>$2,695.00</td>\n",
       "    </tr>\n",
       "  </tbody>\n",
       "</table>\n",
       "</div>"
      ],
      "text/plain": [
       "    Voucher  Voucher Line  Distribution Line   Entered  Month (Number)  \\\n",
       "0  L0004356           1.0                1.0  4/1/2016             4.0   \n",
       "1  L0004346           1.0                1.0  4/1/2016             4.0   \n",
       "2  L0004347           1.0                1.0  4/1/2016             4.0   \n",
       "3  L0004348           1.0                1.0  4/1/2016             4.0   \n",
       "4  L0004349           1.0                1.0  4/1/2016             4.0   \n",
       "\n",
       "   Fiscal Month  Month  Fiscal Year    Year               Vendor Name  \\\n",
       "0          10.0  April       2016.0  2016.0  Higginbottom Sahwniece N   \n",
       "1          10.0  April       2016.0  2016.0         Paul Jean Geralde   \n",
       "2          10.0  April       2016.0  2016.0         Alvarado Kristine   \n",
       "3          10.0  April       2016.0  2016.0       Denizard Laurence K   \n",
       "4          10.0  April       2016.0  2016.0                Ramos Juan   \n",
       "\n",
       "   Account   Account Descr    Dept           Department Name  \\\n",
       "0  52926.0  ContServ Loans  188300  Neighborhood Development   \n",
       "1  52926.0  ContServ Loans  188300  Neighborhood Development   \n",
       "2  52926.0  ContServ Loans  188300  Neighborhood Development   \n",
       "3  52926.0  ContServ Loans  188300  Neighborhood Development   \n",
       "4  52926.0  ContServ Loans  188300  Neighborhood Development   \n",
       "\n",
       "               Program Monetary Amount  \n",
       "0  Housing Development      $5,790.00   \n",
       "1  Housing Development      $3,835.00   \n",
       "2  Housing Development      $5,000.00   \n",
       "3  Housing Development      $7,140.00   \n",
       "4  Housing Development      $2,695.00   "
      ]
     },
     "execution_count": 394,
     "metadata": {},
     "output_type": "execute_result"
    }
   ],
   "source": [
    "df.head()"
   ]
  },
  {
   "cell_type": "code",
   "execution_count": 395,
   "metadata": {},
   "outputs": [
    {
     "data": {
      "text/html": [
       "<div>\n",
       "<style scoped>\n",
       "    .dataframe tbody tr th:only-of-type {\n",
       "        vertical-align: middle;\n",
       "    }\n",
       "\n",
       "    .dataframe tbody tr th {\n",
       "        vertical-align: top;\n",
       "    }\n",
       "\n",
       "    .dataframe thead th {\n",
       "        text-align: right;\n",
       "    }\n",
       "</style>\n",
       "<table border=\"1\" class=\"dataframe\">\n",
       "  <thead>\n",
       "    <tr style=\"text-align: right;\">\n",
       "      <th></th>\n",
       "      <th>Voucher</th>\n",
       "      <th>Voucher Line</th>\n",
       "      <th>Distribution Line</th>\n",
       "      <th>Entered</th>\n",
       "      <th>Month (Number)</th>\n",
       "      <th>Fiscal Month</th>\n",
       "      <th>Month</th>\n",
       "      <th>Fiscal Year</th>\n",
       "      <th>Year</th>\n",
       "      <th>Vendor Name</th>\n",
       "      <th>Account</th>\n",
       "      <th>Account Descr</th>\n",
       "      <th>Dept</th>\n",
       "      <th>Department Name</th>\n",
       "      <th>Program</th>\n",
       "      <th>Monetary Amount</th>\n",
       "    </tr>\n",
       "  </thead>\n",
       "  <tbody>\n",
       "    <tr>\n",
       "      <th>698140</th>\n",
       "      <td>02932443</td>\n",
       "      <td>1.0</td>\n",
       "      <td>1.0</td>\n",
       "      <td>2020-06-29</td>\n",
       "      <td>6.0</td>\n",
       "      <td>12.0</td>\n",
       "      <td>June</td>\n",
       "      <td>2020.0</td>\n",
       "      <td>2020.0</td>\n",
       "      <td>Star Building Services Inc</td>\n",
       "      <td>52910.0</td>\n",
       "      <td>ContServ Cleaning</td>\n",
       "      <td>221501</td>\n",
       "      <td>Fire Department</td>\n",
       "      <td>Facilities Maintenance</td>\n",
       "      <td>350.0</td>\n",
       "    </tr>\n",
       "    <tr>\n",
       "      <th>698141</th>\n",
       "      <td>02932447</td>\n",
       "      <td>1.0</td>\n",
       "      <td>1.0</td>\n",
       "      <td>2020-06-29</td>\n",
       "      <td>6.0</td>\n",
       "      <td>12.0</td>\n",
       "      <td>June</td>\n",
       "      <td>2020.0</td>\n",
       "      <td>2020.0</td>\n",
       "      <td>Star Building Services Inc</td>\n",
       "      <td>52910.0</td>\n",
       "      <td>ContServ Cleaning</td>\n",
       "      <td>221501</td>\n",
       "      <td>Fire Department</td>\n",
       "      <td>Facilities Maintenance</td>\n",
       "      <td>5008.34</td>\n",
       "    </tr>\n",
       "    <tr>\n",
       "      <th>698142</th>\n",
       "      <td>02932448</td>\n",
       "      <td>1.0</td>\n",
       "      <td>1.0</td>\n",
       "      <td>2020-06-29</td>\n",
       "      <td>6.0</td>\n",
       "      <td>12.0</td>\n",
       "      <td>June</td>\n",
       "      <td>2020.0</td>\n",
       "      <td>2020.0</td>\n",
       "      <td>Star Building Services Inc</td>\n",
       "      <td>52910.0</td>\n",
       "      <td>ContServ Cleaning</td>\n",
       "      <td>221501</td>\n",
       "      <td>Fire Department</td>\n",
       "      <td>Facilities Maintenance</td>\n",
       "      <td>2575.0</td>\n",
       "    </tr>\n",
       "    <tr>\n",
       "      <th>698143</th>\n",
       "      <td>02932450</td>\n",
       "      <td>1.0</td>\n",
       "      <td>1.0</td>\n",
       "      <td>2020-06-29</td>\n",
       "      <td>6.0</td>\n",
       "      <td>12.0</td>\n",
       "      <td>June</td>\n",
       "      <td>2020.0</td>\n",
       "      <td>2020.0</td>\n",
       "      <td>Star Building Services Inc</td>\n",
       "      <td>52910.0</td>\n",
       "      <td>ContServ Cleaning</td>\n",
       "      <td>221501</td>\n",
       "      <td>Fire Department</td>\n",
       "      <td>Facilities Maintenance</td>\n",
       "      <td>350.0</td>\n",
       "    </tr>\n",
       "    <tr>\n",
       "      <th>698144</th>\n",
       "      <td>02932452</td>\n",
       "      <td>1.0</td>\n",
       "      <td>1.0</td>\n",
       "      <td>2020-06-29</td>\n",
       "      <td>6.0</td>\n",
       "      <td>12.0</td>\n",
       "      <td>June</td>\n",
       "      <td>2020.0</td>\n",
       "      <td>2020.0</td>\n",
       "      <td>Star Building Services Inc</td>\n",
       "      <td>52910.0</td>\n",
       "      <td>ContServ Cleaning</td>\n",
       "      <td>221501</td>\n",
       "      <td>Fire Department</td>\n",
       "      <td>Facilities Maintenance</td>\n",
       "      <td>455.0</td>\n",
       "    </tr>\n",
       "  </tbody>\n",
       "</table>\n",
       "</div>"
      ],
      "text/plain": [
       "         Voucher  Voucher Line  Distribution Line     Entered  Month (Number)  \\\n",
       "698140  02932443           1.0                1.0  2020-06-29             6.0   \n",
       "698141  02932447           1.0                1.0  2020-06-29             6.0   \n",
       "698142  02932448           1.0                1.0  2020-06-29             6.0   \n",
       "698143  02932450           1.0                1.0  2020-06-29             6.0   \n",
       "698144  02932452           1.0                1.0  2020-06-29             6.0   \n",
       "\n",
       "        Fiscal Month Month  Fiscal Year    Year                 Vendor Name  \\\n",
       "698140          12.0  June       2020.0  2020.0  Star Building Services Inc   \n",
       "698141          12.0  June       2020.0  2020.0  Star Building Services Inc   \n",
       "698142          12.0  June       2020.0  2020.0  Star Building Services Inc   \n",
       "698143          12.0  June       2020.0  2020.0  Star Building Services Inc   \n",
       "698144          12.0  June       2020.0  2020.0  Star Building Services Inc   \n",
       "\n",
       "        Account      Account Descr    Dept  Department Name  \\\n",
       "698140  52910.0  ContServ Cleaning  221501  Fire Department   \n",
       "698141  52910.0  ContServ Cleaning  221501  Fire Department   \n",
       "698142  52910.0  ContServ Cleaning  221501  Fire Department   \n",
       "698143  52910.0  ContServ Cleaning  221501  Fire Department   \n",
       "698144  52910.0  ContServ Cleaning  221501  Fire Department   \n",
       "\n",
       "                       Program Monetary Amount  \n",
       "698140  Facilities Maintenance           350.0  \n",
       "698141  Facilities Maintenance         5008.34  \n",
       "698142  Facilities Maintenance          2575.0  \n",
       "698143  Facilities Maintenance           350.0  \n",
       "698144  Facilities Maintenance           455.0  "
      ]
     },
     "execution_count": 395,
     "metadata": {},
     "output_type": "execute_result"
    }
   ],
   "source": [
    "df.tail()"
   ]
  },
  {
   "cell_type": "code",
   "execution_count": 396,
   "metadata": {
    "scrolled": true
   },
   "outputs": [
    {
     "data": {
      "text/plain": [
       "Voucher               object\n",
       "Voucher Line         float64\n",
       "Distribution Line    float64\n",
       "Entered               object\n",
       "Month (Number)       float64\n",
       "Fiscal Month         float64\n",
       "Month                 object\n",
       "Fiscal Year          float64\n",
       "Year                 float64\n",
       "Vendor Name           object\n",
       "Account              float64\n",
       "Account Descr         object\n",
       "Dept                  object\n",
       "Department Name       object\n",
       "Program               object\n",
       "Monetary Amount       object\n",
       "dtype: object"
      ]
     },
     "execution_count": 396,
     "metadata": {},
     "output_type": "execute_result"
    }
   ],
   "source": [
    "df.dtypes"
   ]
  },
  {
   "cell_type": "code",
   "execution_count": 397,
   "metadata": {},
   "outputs": [],
   "source": [
    "# want Monetary Amount to be float\n",
    "# remove all the signs"
   ]
  },
  {
   "cell_type": "code",
   "execution_count": 398,
   "metadata": {},
   "outputs": [],
   "source": [
    "df['Monetary Amount'] = df['Monetary Amount'].str.replace(',', '').str.replace('$', '').str.replace('(', '').str.replace(')', '').astype(float)"
   ]
  },
  {
   "cell_type": "code",
   "execution_count": 399,
   "metadata": {},
   "outputs": [
    {
     "data": {
      "text/html": [
       "<div>\n",
       "<style scoped>\n",
       "    .dataframe tbody tr th:only-of-type {\n",
       "        vertical-align: middle;\n",
       "    }\n",
       "\n",
       "    .dataframe tbody tr th {\n",
       "        vertical-align: top;\n",
       "    }\n",
       "\n",
       "    .dataframe thead th {\n",
       "        text-align: right;\n",
       "    }\n",
       "</style>\n",
       "<table border=\"1\" class=\"dataframe\">\n",
       "  <thead>\n",
       "    <tr style=\"text-align: right;\">\n",
       "      <th></th>\n",
       "      <th>Voucher</th>\n",
       "      <th>Voucher Line</th>\n",
       "      <th>Distribution Line</th>\n",
       "      <th>Entered</th>\n",
       "      <th>Month (Number)</th>\n",
       "      <th>Fiscal Month</th>\n",
       "      <th>Month</th>\n",
       "      <th>Fiscal Year</th>\n",
       "      <th>Year</th>\n",
       "      <th>Vendor Name</th>\n",
       "      <th>Account</th>\n",
       "      <th>Account Descr</th>\n",
       "      <th>Dept</th>\n",
       "      <th>Department Name</th>\n",
       "      <th>Program</th>\n",
       "      <th>Monetary Amount</th>\n",
       "    </tr>\n",
       "  </thead>\n",
       "  <tbody>\n",
       "    <tr>\n",
       "      <th>0</th>\n",
       "      <td>L0004356</td>\n",
       "      <td>1.0</td>\n",
       "      <td>1.0</td>\n",
       "      <td>4/1/2016</td>\n",
       "      <td>4.0</td>\n",
       "      <td>10.0</td>\n",
       "      <td>April</td>\n",
       "      <td>2016.0</td>\n",
       "      <td>2016.0</td>\n",
       "      <td>Higginbottom Sahwniece N</td>\n",
       "      <td>52926.0</td>\n",
       "      <td>ContServ Loans</td>\n",
       "      <td>188300</td>\n",
       "      <td>Neighborhood Development</td>\n",
       "      <td>Housing Development</td>\n",
       "      <td>5790.0</td>\n",
       "    </tr>\n",
       "    <tr>\n",
       "      <th>1</th>\n",
       "      <td>L0004346</td>\n",
       "      <td>1.0</td>\n",
       "      <td>1.0</td>\n",
       "      <td>4/1/2016</td>\n",
       "      <td>4.0</td>\n",
       "      <td>10.0</td>\n",
       "      <td>April</td>\n",
       "      <td>2016.0</td>\n",
       "      <td>2016.0</td>\n",
       "      <td>Paul Jean Geralde</td>\n",
       "      <td>52926.0</td>\n",
       "      <td>ContServ Loans</td>\n",
       "      <td>188300</td>\n",
       "      <td>Neighborhood Development</td>\n",
       "      <td>Housing Development</td>\n",
       "      <td>3835.0</td>\n",
       "    </tr>\n",
       "    <tr>\n",
       "      <th>2</th>\n",
       "      <td>L0004347</td>\n",
       "      <td>1.0</td>\n",
       "      <td>1.0</td>\n",
       "      <td>4/1/2016</td>\n",
       "      <td>4.0</td>\n",
       "      <td>10.0</td>\n",
       "      <td>April</td>\n",
       "      <td>2016.0</td>\n",
       "      <td>2016.0</td>\n",
       "      <td>Alvarado Kristine</td>\n",
       "      <td>52926.0</td>\n",
       "      <td>ContServ Loans</td>\n",
       "      <td>188300</td>\n",
       "      <td>Neighborhood Development</td>\n",
       "      <td>Housing Development</td>\n",
       "      <td>5000.0</td>\n",
       "    </tr>\n",
       "    <tr>\n",
       "      <th>3</th>\n",
       "      <td>L0004348</td>\n",
       "      <td>1.0</td>\n",
       "      <td>1.0</td>\n",
       "      <td>4/1/2016</td>\n",
       "      <td>4.0</td>\n",
       "      <td>10.0</td>\n",
       "      <td>April</td>\n",
       "      <td>2016.0</td>\n",
       "      <td>2016.0</td>\n",
       "      <td>Denizard Laurence K</td>\n",
       "      <td>52926.0</td>\n",
       "      <td>ContServ Loans</td>\n",
       "      <td>188300</td>\n",
       "      <td>Neighborhood Development</td>\n",
       "      <td>Housing Development</td>\n",
       "      <td>7140.0</td>\n",
       "    </tr>\n",
       "    <tr>\n",
       "      <th>4</th>\n",
       "      <td>L0004349</td>\n",
       "      <td>1.0</td>\n",
       "      <td>1.0</td>\n",
       "      <td>4/1/2016</td>\n",
       "      <td>4.0</td>\n",
       "      <td>10.0</td>\n",
       "      <td>April</td>\n",
       "      <td>2016.0</td>\n",
       "      <td>2016.0</td>\n",
       "      <td>Ramos Juan</td>\n",
       "      <td>52926.0</td>\n",
       "      <td>ContServ Loans</td>\n",
       "      <td>188300</td>\n",
       "      <td>Neighborhood Development</td>\n",
       "      <td>Housing Development</td>\n",
       "      <td>2695.0</td>\n",
       "    </tr>\n",
       "  </tbody>\n",
       "</table>\n",
       "</div>"
      ],
      "text/plain": [
       "    Voucher  Voucher Line  Distribution Line   Entered  Month (Number)  \\\n",
       "0  L0004356           1.0                1.0  4/1/2016             4.0   \n",
       "1  L0004346           1.0                1.0  4/1/2016             4.0   \n",
       "2  L0004347           1.0                1.0  4/1/2016             4.0   \n",
       "3  L0004348           1.0                1.0  4/1/2016             4.0   \n",
       "4  L0004349           1.0                1.0  4/1/2016             4.0   \n",
       "\n",
       "   Fiscal Month  Month  Fiscal Year    Year               Vendor Name  \\\n",
       "0          10.0  April       2016.0  2016.0  Higginbottom Sahwniece N   \n",
       "1          10.0  April       2016.0  2016.0         Paul Jean Geralde   \n",
       "2          10.0  April       2016.0  2016.0         Alvarado Kristine   \n",
       "3          10.0  April       2016.0  2016.0       Denizard Laurence K   \n",
       "4          10.0  April       2016.0  2016.0                Ramos Juan   \n",
       "\n",
       "   Account   Account Descr    Dept           Department Name  \\\n",
       "0  52926.0  ContServ Loans  188300  Neighborhood Development   \n",
       "1  52926.0  ContServ Loans  188300  Neighborhood Development   \n",
       "2  52926.0  ContServ Loans  188300  Neighborhood Development   \n",
       "3  52926.0  ContServ Loans  188300  Neighborhood Development   \n",
       "4  52926.0  ContServ Loans  188300  Neighborhood Development   \n",
       "\n",
       "               Program  Monetary Amount  \n",
       "0  Housing Development           5790.0  \n",
       "1  Housing Development           3835.0  \n",
       "2  Housing Development           5000.0  \n",
       "3  Housing Development           7140.0  \n",
       "4  Housing Development           2695.0  "
      ]
     },
     "execution_count": 399,
     "metadata": {},
     "output_type": "execute_result"
    }
   ],
   "source": [
    "df.head()"
   ]
  },
  {
   "cell_type": "code",
   "execution_count": 400,
   "metadata": {},
   "outputs": [
    {
     "data": {
      "text/plain": [
       "(698145, 16)"
      ]
     },
     "execution_count": 400,
     "metadata": {},
     "output_type": "execute_result"
    }
   ],
   "source": [
    "df.shape"
   ]
  },
  {
   "cell_type": "code",
   "execution_count": 401,
   "metadata": {},
   "outputs": [
    {
     "name": "stdout",
     "output_type": "stream",
     "text": [
      "Voucher              4855\n",
      "Voucher Line         4855\n",
      "Distribution Line    4855\n",
      "Entered              4855\n",
      "Month (Number)       4855\n",
      "Fiscal Month         4855\n",
      "Month                4855\n",
      "Fiscal Year          4855\n",
      "Year                 4855\n",
      "Vendor Name          4855\n",
      "Account              4855\n",
      "Account Descr        4855\n",
      "Dept                 4855\n",
      "Department Name      4855\n",
      "Program              4855\n",
      "Monetary Amount      4855\n",
      "dtype: int64\n"
     ]
    }
   ],
   "source": [
    "print(df.isnull().sum())"
   ]
  },
  {
   "cell_type": "code",
   "execution_count": 402,
   "metadata": {},
   "outputs": [],
   "source": [
    "# there is no missing data but only blank lines\n",
    "# remove all the null and reset the index"
   ]
  },
  {
   "cell_type": "code",
   "execution_count": 403,
   "metadata": {},
   "outputs": [
    {
     "data": {
      "text/plain": [
       "(693290, 16)"
      ]
     },
     "execution_count": 403,
     "metadata": {},
     "output_type": "execute_result"
    }
   ],
   "source": [
    "df = df.dropna()\n",
    "df.shape"
   ]
  },
  {
   "cell_type": "code",
   "execution_count": 404,
   "metadata": {},
   "outputs": [
    {
     "name": "stdout",
     "output_type": "stream",
     "text": [
      "number of duplicate rows:  (19632, 16)\n"
     ]
    }
   ],
   "source": [
    "duplicate_rows_df = df[df.duplicated(keep = False)]\n",
    "print(\"number of duplicate rows: \", duplicate_rows_df.shape)"
   ]
  },
  {
   "cell_type": "code",
   "execution_count": 405,
   "metadata": {},
   "outputs": [],
   "source": [
    "# remove all duplicates and reset the index"
   ]
  },
  {
   "cell_type": "code",
   "execution_count": 406,
   "metadata": {},
   "outputs": [
    {
     "data": {
      "text/plain": [
       "(683474, 16)"
      ]
     },
     "execution_count": 406,
     "metadata": {},
     "output_type": "execute_result"
    }
   ],
   "source": [
    "df = df.drop_duplicates()\n",
    "df = df.reset_index(drop=True)\n",
    "df.shape"
   ]
  },
  {
   "cell_type": "code",
   "execution_count": 407,
   "metadata": {},
   "outputs": [],
   "source": [
    "# get the all different department names\n",
    "# found out that there are 72 departments"
   ]
  },
  {
   "cell_type": "code",
   "execution_count": 408,
   "metadata": {},
   "outputs": [
    {
     "data": {
      "text/plain": [
       "0          Neighborhood Development\n",
       "1                   Fire Department\n",
       "2                   Leading the Way\n",
       "3         Boston Public School Dept\n",
       "4                Elderly Commission\n",
       "                  ...              \n",
       "67         Boston Housing Authority\n",
       "68        Transportation Department\n",
       "69    Ofc of Immigrant  Advancement\n",
       "70                       Age Strong\n",
       "71                      Procurement\n",
       "Name: Department Name, Length: 72, dtype: object"
      ]
     },
     "execution_count": 408,
     "metadata": {},
     "output_type": "execute_result"
    }
   ],
   "source": [
    "all_dps = df['Department Name']\n",
    "all_dps = all_dps.drop_duplicates()\n",
    "all_dps = all_dps.reset_index(drop=True)\n",
    "all_dps"
   ]
  },
  {
   "cell_type": "code",
   "execution_count": 409,
   "metadata": {},
   "outputs": [],
   "source": [
    "# compute the sum of monetary amount of each department\n",
    "# find the max and min"
   ]
  },
  {
   "cell_type": "code",
   "execution_count": 410,
   "metadata": {},
   "outputs": [],
   "source": [
    "dps_money = [df[df['Department Name'] == dp_name]['Monetary Amount'].sum() for dp_name in all_dps]"
   ]
  },
  {
   "cell_type": "code",
   "execution_count": 411,
   "metadata": {},
   "outputs": [],
   "source": [
    "#\n",
    "# question 1\n",
    "#"
   ]
  },
  {
   "cell_type": "code",
   "execution_count": 412,
   "metadata": {},
   "outputs": [
    {
     "name": "stdout",
     "output_type": "stream",
     "text": [
      "where the city spent the most is Boston Public School Dept: $ 1652763186.97\n"
     ]
    }
   ],
   "source": [
    "print('where the city spent the most is ' + all_dps.iloc[dps_money.index(max(dps_money))] + ': $', max(dps_money))"
   ]
  },
  {
   "cell_type": "code",
   "execution_count": 413,
   "metadata": {},
   "outputs": [],
   "source": [
    "#\n",
    "# question 2\n",
    "#"
   ]
  },
  {
   "cell_type": "code",
   "execution_count": 414,
   "metadata": {},
   "outputs": [
    {
     "name": "stdout",
     "output_type": "stream",
     "text": [
      "where the city spent the least is Small and  Local Business: $ 7.47\n"
     ]
    }
   ],
   "source": [
    "print('where the city spent the least is ' + all_dps.iloc[dps_money.index(min(dps_money))] + ': $', min(dps_money))"
   ]
  },
  {
   "cell_type": "code",
   "execution_count": 415,
   "metadata": {},
   "outputs": [],
   "source": [
    "#\n",
    "# question 3\n",
    "#"
   ]
  },
  {
   "cell_type": "code",
   "execution_count": 416,
   "metadata": {},
   "outputs": [],
   "source": [
    "# trend in the case of Small and  Local Business where the city spent the least"
   ]
  },
  {
   "cell_type": "code",
   "execution_count": 417,
   "metadata": {
    "scrolled": true
   },
   "outputs": [
    {
     "data": {
      "text/html": [
       "<div>\n",
       "<style scoped>\n",
       "    .dataframe tbody tr th:only-of-type {\n",
       "        vertical-align: middle;\n",
       "    }\n",
       "\n",
       "    .dataframe tbody tr th {\n",
       "        vertical-align: top;\n",
       "    }\n",
       "\n",
       "    .dataframe thead th {\n",
       "        text-align: right;\n",
       "    }\n",
       "</style>\n",
       "<table border=\"1\" class=\"dataframe\">\n",
       "  <thead>\n",
       "    <tr style=\"text-align: right;\">\n",
       "      <th></th>\n",
       "      <th>Voucher</th>\n",
       "      <th>Voucher Line</th>\n",
       "      <th>Distribution Line</th>\n",
       "      <th>Entered</th>\n",
       "      <th>Month (Number)</th>\n",
       "      <th>Fiscal Month</th>\n",
       "      <th>Month</th>\n",
       "      <th>Fiscal Year</th>\n",
       "      <th>Year</th>\n",
       "      <th>Vendor Name</th>\n",
       "      <th>Account</th>\n",
       "      <th>Account Descr</th>\n",
       "      <th>Dept</th>\n",
       "      <th>Department Name</th>\n",
       "      <th>Program</th>\n",
       "      <th>Monetary Amount</th>\n",
       "    </tr>\n",
       "  </thead>\n",
       "  <tbody>\n",
       "    <tr>\n",
       "      <th>54751</th>\n",
       "      <td>2175843</td>\n",
       "      <td>1.0</td>\n",
       "      <td>1.0</td>\n",
       "      <td>7/13/2015</td>\n",
       "      <td>7.0</td>\n",
       "      <td>1.0</td>\n",
       "      <td>July</td>\n",
       "      <td>2016.0</td>\n",
       "      <td>2015.0</td>\n",
       "      <td>Nestle Waters North America, Inc.</td>\n",
       "      <td>54905.0</td>\n",
       "      <td>Current Water Coolers/Bottled</td>\n",
       "      <td>156100</td>\n",
       "      <td>Small and  Local Business</td>\n",
       "      <td>Small and  Local Business</td>\n",
       "      <td>7.47</td>\n",
       "    </tr>\n",
       "  </tbody>\n",
       "</table>\n",
       "</div>"
      ],
      "text/plain": [
       "       Voucher  Voucher Line  Distribution Line    Entered  Month (Number)  \\\n",
       "54751  2175843           1.0                1.0  7/13/2015             7.0   \n",
       "\n",
       "       Fiscal Month Month  Fiscal Year    Year  \\\n",
       "54751           1.0  July       2016.0  2015.0   \n",
       "\n",
       "                             Vendor Name  Account  \\\n",
       "54751  Nestle Waters North America, Inc.  54905.0   \n",
       "\n",
       "                       Account Descr    Dept            Department Name  \\\n",
       "54751  Current Water Coolers/Bottled  156100  Small and  Local Business   \n",
       "\n",
       "                         Program  Monetary Amount  \n",
       "54751  Small and  Local Business             7.47  "
      ]
     },
     "execution_count": 417,
     "metadata": {},
     "output_type": "execute_result"
    }
   ],
   "source": [
    "df[df['Department Name'] == 'Small and  Local Business']"
   ]
  },
  {
   "cell_type": "code",
   "execution_count": 418,
   "metadata": {},
   "outputs": [],
   "source": [
    "# \n",
    "# I dont think there is a trend because there is only one transaction in five years. I believe there probably are a lot of data\n",
    "# that have not been collected yet.\n",
    "#"
   ]
  },
  {
   "cell_type": "code",
   "execution_count": 419,
   "metadata": {},
   "outputs": [],
   "source": [
    "# trend in the case of Boston Public School Dept where the city spent the most"
   ]
  },
  {
   "cell_type": "code",
   "execution_count": 420,
   "metadata": {},
   "outputs": [
    {
     "data": {
      "image/png": "[encoded data removed]",
      "text/plain": [
       "<Figure size 720x432 with 1 Axes>"
      ]
     },
     "metadata": {
      "needs_background": "light"
     },
     "output_type": "display_data"
    },
    {
     "data": {
      "image/png": "[encoded data removed]",
      "text/plain": [
       "<Figure size 720x432 with 1 Axes>"
      ]
     },
     "metadata": {
      "needs_background": "light"
     },
     "output_type": "display_data"
    }
   ],
   "source": [
    "# compute monthly sum of monetary amount\n",
    "df_BPSD = df[df['Department Name'] == 'Boston Public School Dept'][['Fiscal Month','Fiscal Year','Monetary Amount']]\n",
    "df_BPSD = df_BPSD.reset_index(drop=True)\n",
    "for x in range(2017,2021):\n",
    "    df_BPSD.loc[df_BPSD['Fiscal Year'] == x, 'Fiscal Month'] += 12*(x-2016)\n",
    "all_months = df_BPSD['Fiscal Month'].drop_duplicates()\n",
    "all_months = all_months.reset_index(drop=True)\n",
    "months_money = [df_BPSD[df_BPSD['Fiscal Month'] == month]['Monetary Amount'].sum() for month in all_months]\n",
    "frame = {'Fiscal Month': all_months, 'Monetary Amount': months_money}\n",
    "df_BPSD_monthly = pd.DataFrame(frame)\n",
    "fig, ax = plt.subplots(figsize=(10,6))\n",
    "ax.scatter(df_BPSD_monthly['Fiscal Month'], df_BPSD_monthly['Monetary Amount'])\n",
    "ax.set_xlabel('Fiscal Month')\n",
    "ax.set_ylabel('Monetary Amount')\n",
    "plt.show()\n",
    "\n",
    "# compute yearly sum of monetary amount\n",
    "all_years = pd.Series([2016,2017,2018,2019,2020])\n",
    "years_money = [df_BPSD[df_BPSD['Fiscal Year'] == year]['Monetary Amount'].sum() for year in all_years]\n",
    "frame2 = {'Fiscal Year': all_years, 'Monetary Amount': years_money}\n",
    "df_BPSD_yearly = pd.DataFrame(frame2)\n",
    "fig2, ax2 = plt.subplots(figsize=(10,6))\n",
    "ax2.scatter(df_BPSD_yearly['Fiscal Year'], df_BPSD_yearly['Monetary Amount'])\n",
    "ax2.set_xlabel('Fiscal Year')\n",
    "ax2.set_ylabel('Monetary Amount')\n",
    "plt.show()"
   ]
  },
  {
   "cell_type": "code",
   "execution_count": 421,
   "metadata": {},
   "outputs": [],
   "source": [
    "#\n",
    "# Based on two figures, I see a little up trend. The reason is probably that there are more and more students yearly\n",
    "#"
   ]
  },
  {
   "cell_type": "code",
   "execution_count": 422,
   "metadata": {},
   "outputs": [],
   "source": [
    "#\n",
    "# Bonus part\n",
    "#"
   ]
  },
  {
   "cell_type": "code",
   "execution_count": 423,
   "metadata": {},
   "outputs": [
    {
     "name": "stdout",
     "output_type": "stream",
     "text": [
      "                       Departments       Returns\n",
      "0             Assessing Department  4.768892e+09\n",
      "1        Transportation Department  7.658471e+07\n",
      "2               Library Department -1.446129e+08\n",
      "3                  Fire Department -1.325710e+08\n",
      "4          Public Works Department -5.263107e+08\n",
      "5                Registry Division  3.134620e+06\n",
      "6                       City Clerk  8.425758e+05\n",
      "7                Budget Management  1.132722e+07\n",
      "8                 Health Insurance -1.522928e+09\n",
      "9                Police Department -2.247586e+08\n",
      "10        Neighborhood Development -3.417386e+08\n",
      "11                  Law Department -9.305705e+06\n",
      "12             Auditing Department  1.071699e+07\n",
      "13        Office of Arts & Culture -5.863531e+06\n",
      "14    Consumer Affairs & Licensing  1.268728e+07\n",
      "15          Environment Department -2.231822e+07\n",
      "16   Parks & Recreation Department -1.520617e+08\n",
      "17   Youth Engagement & Employment -3.507319e+06\n",
      "18             Election Department -4.296056e+06\n",
      "19             Women's Advancement -8.023614e+04\n",
      "20                 Human Resources -3.157380e+06\n",
      "21                 Leading the Way -2.300148e+06\n",
      "22            Emergency Management -3.419092e+07\n",
      "23  Treas Dept - Treasury Division -2.770804e+08\n",
      "24       Boston Public School Dept -1.652763e+09\n",
      "25  Boston Center-Youth & Families -4.816521e+07\n",
      "26      Inspectional Services Dept -9.223342e+06\n",
      "27             Property Management -7.935383e+07\n",
      "28  Dpt of Innovation & Technology -1.612854e+08\n",
      "29                 Labor Relations -1.330171e+06\n",
      "30       Workers Compensation Fund -9.649166e+05\n",
      "31   Ofc of Immigrant  Advancement -8.912791e+05\n",
      "32          Public Facilities Dept -9.034392e+05\n",
      "33              Veterans' Services -4.674652e+05\n",
      "34    Consumer Affairs & Licensing  1.268728e+07\n"
     ]
    }
   ],
   "source": [
    "# if one of FY18 and FY19 misses data, assume that is the same as that of the other year\n",
    "# if both FY18 and FY19 miss data, set them None and drop it\n",
    "df_rv = pd.read_csv('revenue-open-data_07.21.20_public.csv',encoding = \"cp1252\")\n",
    "df_rv.head()\n",
    "df_rv = df_rv.loc[:, 'Revenue Category':'FY19 Actual']\n",
    "df_rv.loc[df_rv['FY18 Actual'] == ' -   ', 'FY18 Actual'] = df_rv.loc[df_rv['FY18 Actual'] == ' -   ', 'FY19 Actual']\n",
    "df_rv.loc[df_rv['FY19 Actual'] == ' -   ', 'FY19 Actual'] = df_rv.loc[df_rv['FY19 Actual'] == ' -   ', 'FY18 Actual']\n",
    "df_rv.loc[(df_rv['FY19 Actual'] == ' -   ') & (df_rv['FY18 Actual'] == ' -   '), ['FY18 Actual','FY19 Actual']] = None\n",
    "df_rv['FY19 Actual'] = df_rv['FY19 Actual'].str.replace(',', '').str.replace('(', '-').str.replace(')', '').astype(float)\n",
    "df_rv['FY18 Actual'] = df_rv['FY18 Actual'].str.replace(',', '').str.replace('(', '-').str.replace(')', '').astype(float)\n",
    "df_rv = df_rv.dropna()\n",
    "\n",
    "# departments in the expenditure data from 2018 to 2019\n",
    "df_1819 = df[(df['Fiscal Year'] == 2018) | (df['Fiscal Year'] == 2019)]\n",
    "dps_1819 = df_1819['Department Name']\n",
    "dps_1819 = dps_1819.drop_duplicates()\n",
    "dps_1819 = dps_1819.reset_index(drop=True)\n",
    "\n",
    "# only analyze departments appearing in both expenditure data and revenue data\n",
    "# mannualy added common departments in both dataset but named differently\n",
    "dps_rv = df_rv['Department']\n",
    "dps_rv = dps_rv.drop_duplicates()\n",
    "dps_rv = dps_rv[dps_rv.isin(dps_1819)]\n",
    "dps_rv = pd.concat([dps_rv, pd.Series(['Treas Dept - Treasury Division','Boston Public School Dept','Boston Center-Youth & Families','Inspectional Services Dept','Property Management','Dpt of Innovation & Technology','Labor Relations','Workers Compensation Fund','Ofc of Immigrant  Advancement','Public Facilities Dept','Veterans\\' Services','Consumer Affairs & Licensing'])], ignore_index=True)\n",
    "dps_rv = dps_rv.reset_index(drop=True)\n",
    "dps_exp_sums = [df[df['Department Name'] == dp]['Monetary Amount'].sum() for dp in dps_rv]\n",
    "dps_rv_sums = [df_rv[df_rv['Department'] == dp]['FY18 Actual'].sum() + df_rv[df_rv['Department'] == dp]['FY19 Actual'].sum() for dp in dps_rv]\n",
    "ret = [rv - exp for rv, exp in zip(dps_rv_sums, dps_exp_sums)]\n",
    "\n",
    "rets = pd.Series(ret)\n",
    "frame3 = {'Departments': dps_rv, 'Returns': rets}\n",
    "dps_ret = pd.DataFrame(frame3)\n",
    "print(dps_ret)\n"
   ]
  },
  {
   "cell_type": "code",
   "execution_count": 424,
   "metadata": {},
   "outputs": [],
   "source": [
    "#\n",
    "# question 1\n",
    "#"
   ]
  },
  {
   "cell_type": "code",
   "execution_count": 425,
   "metadata": {},
   "outputs": [
    {
     "data": {
      "text/plain": [
       "Departments    Assessing Department\n",
       "Returns                 4.76889e+09\n",
       "Name: 0, dtype: object"
      ]
     },
     "execution_count": 425,
     "metadata": {},
     "output_type": "execute_result"
    }
   ],
   "source": [
    "dps_ret.iloc[dps_ret['Returns'].idxmax()]"
   ]
  },
  {
   "cell_type": "code",
   "execution_count": 426,
   "metadata": {},
   "outputs": [
    {
     "name": "stdout",
     "output_type": "stream",
     "text": [
      "Where has the city gotten the best return on its investment is Assessing Department\n"
     ]
    }
   ],
   "source": [
    "print('Where has the city gotten the best return on its investment is', dps_ret['Departments'][dps_ret['Returns'].idxmax()])"
   ]
  },
  {
   "cell_type": "code",
   "execution_count": 427,
   "metadata": {},
   "outputs": [],
   "source": [
    "#\n",
    "# question 2\n",
    "#"
   ]
  },
  {
   "cell_type": "code",
   "execution_count": 428,
   "metadata": {},
   "outputs": [
    {
     "data": {
      "text/plain": [
       "Departments    Boston Public School Dept\n",
       "Returns                     -1.65276e+09\n",
       "Name: 24, dtype: object"
      ]
     },
     "execution_count": 428,
     "metadata": {},
     "output_type": "execute_result"
    }
   ],
   "source": [
    "dps_ret.iloc[dps_ret['Returns'].idxmin()]"
   ]
  },
  {
   "cell_type": "code",
   "execution_count": 429,
   "metadata": {},
   "outputs": [
    {
     "name": "stdout",
     "output_type": "stream",
     "text": [
      "Where has the city gotten the worest return on its investment is Boston Public School Dept\n"
     ]
    }
   ],
   "source": [
    "print('Where has the city gotten the worest return on its investment is', dps_ret['Departments'][dps_ret['Returns'].idxmin()])"
   ]
  }
 ],
 "metadata": {
  "colab": {
   "name": "HW3.ipynb",
   "provenance": []
  },
  "kernelspec": {
   "display_name": "Python 3",
   "language": "python",
   "name": "python3"
  },
  "language_info": {
   "codemirror_mode": {
    "name": "ipython",
    "version": 3
   },
   "file_extension": ".py",
   "mimetype": "text/x-python",
   "name": "python",
   "nbconvert_exporter": "python",
   "pygments_lexer": "ipython3",
   "version": "3.8.3"
  }
 },
 "nbformat": 4,
 "nbformat_minor": 1
}
